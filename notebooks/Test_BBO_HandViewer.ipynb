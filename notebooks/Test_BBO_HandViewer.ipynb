{
 "cells": [
  {
   "cell_type": "markdown",
   "metadata": {},
   "source": [
    "# A Simulation Tutorial for Better Decisionmaking at Bridge\n",
    "\n",
    "This article describes how computers can be used to help with the analysis of decisions made at the game of bridge. Probably many readers will be familiar with the fact that Monte Carlo simulation is a technique widely used by good quality bridge playing software, and even some top-class human players do something similar in their head at the table. What I would like to show is that such kind of analysis is not too hard to do, and should be accessible to \"mere-mortals\" who are neither bridge professionals nor PhDs in artificial intelligence. The concepts will be introduced by example, and are all related to a deal that I recently played and found interesting. We shall look at decisions that arise in bidding, cardplay and at the opening lead.\n",
    "\n",
    "#### The Bidding\n",
    "\n",
    "The story starts with a bidding problem. Holding South's hand in the diagram, what should we bid after partner's preempt of 3&clubs;?"
   ]
  },
  {
   "cell_type": "code",
   "execution_count": 1,
   "metadata": {
    "collapsed": true
   },
   "outputs": [],
   "source": [
    "from IPython.display import IFrame"
   ]
  },
  {
   "cell_type": "code",
   "execution_count": 2,
   "metadata": {
    "collapsed": false
   },
   "outputs": [
    {
     "data": {
      "text/html": [
       "\n",
       "        <iframe\n",
       "            width=\"250\"\n",
       "            height=\"250\"\n",
       "            src=\"http://www.bridgebase.com/tools/handviewer.html?s=saj874ha986daca53&d=n&a=3cp?\"\n",
       "            frameborder=\"0\"\n",
       "            allowfullscreen\n",
       "        ></iframe>\n",
       "        "
      ],
      "text/plain": [
       "<IPython.lib.display.IFrame at 0x7f2a08b3e5c0>"
      ]
     },
     "execution_count": 2,
     "metadata": {},
     "output_type": "execute_result"
    }
   ],
   "source": [
    "IFrame('http://www.bridgebase.com/tools/handviewer.html?s=saj874ha986daca53&d=n&a=3cp?', width=250, height=250)"
   ]
  },
  {
   "cell_type": "markdown",
   "metadata": {},
   "source": [
    "The optimists will no doubt like the nice fit with four aces and bid 6&clubs;. Others, more cautious, will note that partner's first-hand non-vulnerable preempt could be quite wild with just QJ to six in clubs and not much else; so they might be tempted to make do with a game and bid 5&clubs;. Another conservative oldfashioned bidder might argue that partner promises six tricks for his preempt and we can count ten sure tricks, therefore 3NT is laydown and 5&clubs; might go down on occasion, so why not bid the safest game of 3NT?\n",
    "\n",
    "I think that none of the above options are wrong, but some bids are certainly more likely to score better than others. Our approach to selecting the best bid is by simulation. We shall sample a large number of random deals such that South holds the cards shown and North's hand is consistent with his 3&clubs; opening. Then we'll do double dummy analysis on every sampled deal and compare the outcomes of the contracts we are considering.\n",
    "\n",
    "In this particular case we are deciding between the following bids: PASS, 3NT, 5&clubs;, 6&clubs; and 6NT, each of which sets the final contract. The definition of North's 3&clubs; will be the more loose (and modern) variant promising just QJxxxx, and we'll assume IMP scoring with none vulnerable."
   ]
  },
  {
   "cell_type": "code",
   "execution_count": 52,
   "metadata": {
    "collapsed": false
   },
   "outputs": [],
   "source": [
    "from redeal import *\n",
    "from redeal import dds\n",
    "from redeal.global_defs import Seat, Suit, Card, Rank, Strain\n",
    "\n",
    "Deal.set_str_style('short')\n",
    "Hand.set_str_style('short')"
   ]
  },
  {
   "cell_type": "markdown",
   "metadata": {},
   "source": [
    "The code below samples random deals in a loop (the so-called \"in the long run\"), accepts the ones satisfying the constraints (as defined in the accept function), computes the double dummy score of each competing contract, and saves the results in a payoff table."
   ]
  },
  {
   "cell_type": "code",
   "execution_count": 38,
   "metadata": {
    "collapsed": false
   },
   "outputs": [],
   "source": [
    "vuln = False\n",
    "predeal = {Seat['S']: H('AJ874 A986 A A53')}\n",
    "dealer = Deal.prepare(predeal)\n",
    "\n",
    "def accept(deal):\n",
    "    if deal.north.hcp > 10:\n",
    "        return False\n",
    "    if len(deal.north.clubs) not in [6, 7]:\n",
    "        return False\n",
    "    if deal.north.clubs.hcp < 3:\n",
    "        return False\n",
    "    return True\n",
    "\n",
    "imps_payoff = Payoff(('pass', '3NT', '5C', '6C', '6NT'), imps)\n",
    "\n",
    "found = 0\n",
    "n = 1000\n",
    "for _ in range(1000 * n):\n",
    "    if found > n:\n",
    "        break\n",
    "    deal = dealer()\n",
    "    if not accept(deal):\n",
    "        continue\n",
    "    found += 1\n",
    "    score_3c = deal.dd_score('3CN', vuln)\n",
    "    score_3n = deal.dd_score('3NS', vuln)\n",
    "    score_5c = deal.dd_score('5CN', vuln)\n",
    "    score_6c = deal.dd_score('6CN', vuln)\n",
    "    score_6n = deal.dd_score('6NS', vuln)\n",
    "    data = {\n",
    "        'pass': score_3c,\n",
    "        '3NT': score_3n,\n",
    "        '5C': score_5c,\n",
    "        '6C': score_6c,\n",
    "        '6NT': score_6n,\n",
    "    }\n",
    "    imps_payoff.add_data(data)"
   ]
  },
  {
   "cell_type": "markdown",
   "metadata": {},
   "source": [
    "We can summarize the results of the simulation by a pairwise table comparing the expected number of imps scored in two competing contracts, on average in the long run. We can see for example that bidding 3NT is better than passing 3&clubs; because, on average, we'll win almost four more imps if we bid 3NT. Bidding 5&clubs; is even better as it improves over 3NT by at least one imp per board. Best is 6&clubs;, which improves on the 5&clubs; contract by at least three imps. Although 6&clubs; may seem risky and fail on many occasions, the safer contract of 5&clubs; can be considered even more risky in that it loses an opportunity of more than 3 imps per board, on average."
   ]
  },
  {
   "cell_type": "code",
   "execution_count": 39,
   "metadata": {
    "collapsed": false
   },
   "outputs": [
    {
     "name": "stdout",
     "output_type": "stream",
     "text": [
      "\tpass\t3NT\t5C\t6C\t6NT\t\n",
      "pass\t\t\u001b[1m\u001b[31m-3.62\u001b[0m\t\u001b[1m\u001b[31m-5.03\u001b[0m\t\u001b[1m\u001b[31m-5.85\u001b[0m\t\u001b[1m\u001b[32m+4.33\u001b[0m\n",
      "\t\t(0.17)\t(0.10)\t(0.28)\t(0.23)\n",
      "3NT\t\u001b[1m\u001b[32m+3.62\u001b[0m\t\t\u001b[1m\u001b[31m-1.29\u001b[0m\t\u001b[1m\u001b[31m-4.32\u001b[0m\t\u001b[1m\u001b[32m+6.01\u001b[0m\n",
      "\t(0.17)\t\t(0.14)\t(0.27)\t(0.25)\n",
      "5C\t\u001b[1m\u001b[32m+5.03\u001b[0m\t\u001b[1m\u001b[32m+1.29\u001b[0m\t\t\u001b[1m\u001b[31m-3.46\u001b[0m\t\u001b[1m\u001b[32m+7.15\u001b[0m\n",
      "\t(0.10)\t(0.14)\t\t(0.30)\t(0.25)\n",
      "6C\t\u001b[1m\u001b[32m+5.85\u001b[0m\t\u001b[1m\u001b[32m+4.32\u001b[0m\t\u001b[1m\u001b[32m+3.46\u001b[0m\t\t\u001b[1m\u001b[32m+7.46\u001b[0m\n",
      "\t(0.28)\t(0.27)\t(0.30)\t\t(0.20)\n",
      "6NT\t\u001b[1m\u001b[31m-4.33\u001b[0m\t\u001b[1m\u001b[31m-6.01\u001b[0m\t\u001b[1m\u001b[31m-7.15\u001b[0m\t\u001b[1m\u001b[31m-7.46\u001b[0m\t\n",
      "\t(0.23)\t(0.25)\t(0.25)\t(0.20)\t\n"
     ]
    }
   ],
   "source": [
    "imps_payoff.report()"
   ]
  },
  {
   "cell_type": "code",
   "execution_count": 114,
   "metadata": {
    "collapsed": false
   },
   "outputs": [
    {
     "name": "stdout",
     "output_type": "stream",
     "text": [
      "\tpass\t3NT\t5C\t6C\t3S_game\t3S_slam\t6NT\t\n",
      "pass\t\t\u001b[1m\u001b[31m-0.41\u001b[0m\t\u001b[1m\u001b[31m-0.76\u001b[0m\t\u001b[1m\u001b[31m-0.15\u001b[0m\t\u001b[1m\u001b[31m-0.78\u001b[0m\t\u001b[1m\u001b[32m+0.64\u001b[0m\t\u001b[1m\u001b[32m+0.52\u001b[0m\n",
      "\t\t(0.09)\t(0.06)\t(0.10)\t(0.06)\t(0.08)\t(0.08)\n",
      "3NT\t\u001b[1m\u001b[32m+0.41\u001b[0m\t\t+0.03\u001b[0m\t\u001b[1m\u001b[31m-0.51\u001b[0m\t\u001b[1m\u001b[31m-0.11\u001b[0m\t\u001b[1m\u001b[32m+0.52\u001b[0m\t\u001b[1m\u001b[32m+0.52\u001b[0m\n",
      "\t(0.09)\t\t(0.09)\t(0.08)\t(0.09)\t(0.08)\t(0.08)\n",
      "5C\t\u001b[1m\u001b[32m+0.76\u001b[0m\t-0.03\u001b[0m\t\t\u001b[1m\u001b[31m-0.15\u001b[0m\t\u001b[1m\u001b[31m-0.28\u001b[0m\t\u001b[1m\u001b[32m+0.64\u001b[0m\t\u001b[1m\u001b[32m+0.52\u001b[0m\n",
      "\t(0.06)\t(0.09)\t\t(0.10)\t(0.05)\t(0.08)\t(0.08)\n",
      "6C\t\u001b[1m\u001b[32m+0.15\u001b[0m\t\u001b[1m\u001b[32m+0.51\u001b[0m\t\u001b[1m\u001b[32m+0.15\u001b[0m\t\t\u001b[1m\u001b[32m+0.16\u001b[0m\t\u001b[1m\u001b[32m+0.58\u001b[0m\t\u001b[1m\u001b[32m+0.50\u001b[0m\n",
      "\t(0.10)\t(0.08)\t(0.10)\t\t(0.10)\t(0.08)\t(0.08)\n",
      "3S_game\t\u001b[1m\u001b[32m+0.78\u001b[0m\t\u001b[1m\u001b[32m+0.11\u001b[0m\t\u001b[1m\u001b[32m+0.28\u001b[0m\t\u001b[1m\u001b[31m-0.16\u001b[0m\t\t\u001b[1m\u001b[32m+0.64\u001b[0m\t\u001b[1m\u001b[32m+0.52\u001b[0m\n",
      "\t(0.06)\t(0.09)\t(0.05)\t(0.10)\t\t(0.08)\t(0.08)\n",
      "3S_slam\t\u001b[1m\u001b[31m-0.64\u001b[0m\t\u001b[1m\u001b[31m-0.52\u001b[0m\t\u001b[1m\u001b[31m-0.64\u001b[0m\t\u001b[1m\u001b[31m-0.58\u001b[0m\t\u001b[1m\u001b[31m-0.64\u001b[0m\t\t-0.02\u001b[0m\n",
      "\t(0.08)\t(0.08)\t(0.08)\t(0.08)\t(0.08)\t\t(0.09)\n",
      "6NT\t\u001b[1m\u001b[31m-0.52\u001b[0m\t\u001b[1m\u001b[31m-0.52\u001b[0m\t\u001b[1m\u001b[31m-0.52\u001b[0m\t\u001b[1m\u001b[31m-0.50\u001b[0m\t\u001b[1m\u001b[31m-0.52\u001b[0m\t+0.02\u001b[0m\t\n",
      "\t(0.08)\t(0.08)\t(0.08)\t(0.08)\t(0.08)\t(0.09)\t\n"
     ]
    }
   ],
   "source": [
    "mp_payoff.report()"
   ]
  },
  {
   "cell_type": "markdown",
   "metadata": {},
   "source": [
    "A few examples of possible North's hands which would allow 6&clubs; to make:\n",
    "\n",
    "♠K6 ♡72 ♢Q86 ♣QJ9862\n",
    "\n",
    "♠65 ♡4 ♢Q85 ♣KQT9874\n",
    "\n",
    "♠3 ♡JT4 ♢J95 ♣KQJ962\n",
    "\n",
    "and a few examples where the slam would fail:\n",
    "\n",
    "♠932 ♡T5 ♢9 ♣KJT9872\n",
    "\n",
    "♠K65 ♡72 ♢74 ♣KQ9764\n",
    "\n",
    "♠5 ♡J52 ♢K62 ♣QJ9876"
   ]
  },
  {
   "cell_type": "code",
   "execution_count": 40,
   "metadata": {
    "collapsed": false
   },
   "outputs": [
    {
     "name": "stdout",
     "output_type": "stream",
     "text": [
      "♠K6♡72♢Q86♣QJ9862\n",
      "♠K62♡QJ♢52♣KJT642\n",
      "♠65♡4♢Q85♣KQT9874\n",
      "♠K6♡Q4♢J8♣QJT8742\n",
      "♠3♡JT4♢J95♣KQJ962\n"
     ]
    }
   ],
   "source": [
    "import random\n",
    "\n",
    "random.shuffle(making_6c)\n",
    "random.shuffle(failing_6c)\n",
    "\n",
    "print('\\n'.join([str(d.north) for d in making_6c[:5]]))"
   ]
  },
  {
   "cell_type": "code",
   "execution_count": 41,
   "metadata": {
    "collapsed": false
   },
   "outputs": [
    {
     "name": "stdout",
     "output_type": "stream",
     "text": [
      "♠932♡T5♢9♣KJT9872\n",
      "♠K65♡72♢74♣KQ9764\n",
      "♠62♡Q2♢975♣KJT742\n",
      "♠5♡J52♢K62♣QJ9876\n",
      "♠♡Q7532♢Q4♣QJT742\n"
     ]
    }
   ],
   "source": [
    "print('\\n'.join([str(d.north) for d in failing_6c[:5]]))"
   ]
  },
  {
   "cell_type": "code",
   "execution_count": 51,
   "metadata": {
    "collapsed": false
   },
   "outputs": [],
   "source": [
    "Hand.set_str_style('long')"
   ]
  },
  {
   "cell_type": "markdown",
   "metadata": {},
   "source": [
    "At the table I chose to bid 6&clubs;, but I was not confident in my decision. Me selecting the winning bid was due to optimism, not sampling and double dummy analysis done in my head :)\n",
    "\n",
    "Anyway, after East's lead of the &hearts;K, partner got some problems of his own to solve."
   ]
  },
  {
   "cell_type": "code",
   "execution_count": 3,
   "metadata": {
    "collapsed": false
   },
   "outputs": [
    {
     "data": {
      "text/html": [
       "\n",
       "        <iframe\n",
       "            width=\"350\"\n",
       "            height=\"350\"\n",
       "            src=\"http://www.bridgebase.com/tools/handviewer.html?n=st6hj4dj2ckqj9876&s=saj874ha986daca53&d=n&p=hkhah2h4c3ctckc2cqc4c5d3hjhqh6h3d4dad8d2h9h5&a=3cp6cppp\"\n",
       "            frameborder=\"0\"\n",
       "            allowfullscreen\n",
       "        ></iframe>\n",
       "        "
      ],
      "text/plain": [
       "<IPython.lib.display.IFrame at 0x7f2a082d3438>"
      ]
     },
     "execution_count": 3,
     "metadata": {},
     "output_type": "execute_result"
    }
   ],
   "source": [
    "IFrame('http://www.bridgebase.com/tools/handviewer.html?n=st6hj4dj2ckqj9876&s=saj874ha986daca53&d=n&p=hkhah2h4c3ctckc2cqc4c5d3hjhqh6h3d4dad8d2h9h5&a=3cp6cppp', width=350, height=350)"
   ]
  },
  {
   "cell_type": "markdown",
   "metadata": {},
   "source": [
    "#### The Play\n",
    "\n",
    "Our prospects are not too good as the lead established a heart trick for the defense, and we seem to have to lose a spade trick as well. If we are to make this slam, then something has to happen in the hearts. The hope is that after losing the heart jack to the queen we can establish a heart, either by ruffing the third round and dropping the ten, or by doing a ruffing finesse against the ten in West. I invite you to step through the first few tricks by pressing the \"Next \" button at the bottom of the diagram. We take the lead (West follows small), we draw trumps in two runds with the K and Q (West discards a diamond on the second), and we lose the heart jack to East's queen (West following small). Having won the &hearts;Q, East exits with a diamond to dummy's ace (East follows suit).\n",
    "\n",
    "Now the crucial moment. We play the &hearts;9 from dummy. East plays low, and we have to decide: do we ruff and hope to see East's 10, or do we discard a spade hoping that the 10 is in West?\n",
    "\n",
    "It is probably realistic to expect declarer to figure out the correct answer in his head at the table, but we have a Monte Carlo simulator at our disposal, so we can afford to rest our brains and avoid overheating. The first thing in the code snippet below is the predeal object, which places every card whose location we already know at the moment of our decision. The main part is the for-loop which samples random hands for E-W and counts how many times the ruffing finesse line works and how many times the ruff-the-ten-out line works."
   ]
  },
  {
   "cell_type": "code",
   "execution_count": 44,
   "metadata": {
    "collapsed": false
   },
   "outputs": [],
   "source": [
    "predeal = {\n",
    "    Seat['S']: H('AJ874 A986 A A53'),\n",
    "    Seat['N']: H('T6 J4 J2 KQJ9876'),\n",
    "    Seat['E']: H('- KQ 4 42'),\n",
    "    Seat['W']: H('- 532 83 T'),\n",
    "}\n",
    "dealer = Deal.prepare(predeal)\n",
    "\n",
    "winning_line = dict(finesse=0, ruffout=0)\n",
    "\n",
    "n = 1000\n",
    "for _ in range(n):\n",
    "    deal = dealer()\n",
    "    if Rank['T'] in deal.west.hearts:\n",
    "        winning_line['finesse'] += 1\n",
    "    if len(deal.east.hearts) == 3 and Rank['T'] in deal.east.hearts:\n",
    "            winning_line['ruffout'] += 1\n"
   ]
  },
  {
   "cell_type": "markdown",
   "metadata": {},
   "source": [
    "After looking at 1000 random layouts, we find that the ruffing finesse will work in 47% of the cases, and in 25% of the cases the &hearts;10 will fall from East. In the remaining 28% of the cases none of the lines will work because East will have a guarded ten. Good. The full deal was:"
   ]
  },
  {
   "cell_type": "code",
   "execution_count": 45,
   "metadata": {
    "collapsed": false
   },
   "outputs": [
    {
     "data": {
      "text/plain": [
       "{'finesse': 473, 'ruffout': 258}"
      ]
     },
     "execution_count": 45,
     "metadata": {},
     "output_type": "execute_result"
    }
   ],
   "source": [
    "winning_line"
   ]
  },
  {
   "cell_type": "code",
   "execution_count": 4,
   "metadata": {
    "collapsed": false
   },
   "outputs": [
    {
     "data": {
      "text/html": [
       "\n",
       "        <iframe\n",
       "            width=\"350\"\n",
       "            height=\"350\"\n",
       "            src=\"http://www.bridgebase.com/tools/handviewer.html?n=st6hj4dj2ckqj9876&s=saj874ha986daca53&w=skq53h7532dqt83ct&d=n\"\n",
       "            frameborder=\"0\"\n",
       "            allowfullscreen\n",
       "        ></iframe>\n",
       "        "
      ],
      "text/plain": [
       "<IPython.lib.display.IFrame at 0x7f2a082d3470>"
      ]
     },
     "execution_count": 4,
     "metadata": {},
     "output_type": "execute_result"
    }
   ],
   "source": [
    "IFrame('http://www.bridgebase.com/tools/handviewer.html?n=st6hj4dj2ckqj9876&s=saj874ha986daca53&w=skq53h7532dqt83ct&d=n', width=350, height=350)"
   ]
  },
  {
   "cell_type": "markdown",
   "metadata": {},
   "source": [
    "One down. Good bridge.\n",
    "\n",
    "After the hand East might feel bad about his lead since it could have potentially helped declarer make his contract. (actually I'm making this up, nobody ever felt bad about their lead after defeating a slam, but for the sake of argument let's assume that East wants to know whether his lead was optimal)"
   ]
  },
  {
   "cell_type": "markdown",
   "metadata": {
    "collapsed": true
   },
   "source": [
    "#### The Opening Lead\n",
    "\n",
    "Once again we can use simulation and double dummy analysis to find the best lead."
   ]
  },
  {
   "cell_type": "code",
   "execution_count": 68,
   "metadata": {
    "collapsed": false
   },
   "outputs": [],
   "source": [
    "predeal = {Seat['E']: H('92 KQT K97654 42')}\n",
    "dealer = Deal.prepare(predeal)\n",
    "accept_north = accept\n",
    "\n",
    "contract = Contract.from_str('6CN')\n",
    "\n",
    "lead_payoff = Payoff(\n",
    "    sorted(dds.valid_cards(dealer(), 'C', 'E'), reverse=True), \n",
    "    lambda ti, tj: imps(contract.score(ti), contract.score(tj))\n",
    ")\n",
    "\n",
    "found = 0\n",
    "n = 1000\n",
    "for _ in range(1000*n):\n",
    "    if found > n:\n",
    "        continue\n",
    "    deal = dealer()\n",
    "    if not accept_north(deal):\n",
    "        continue\n",
    "    if deal.south.hcp < 16:\n",
    "        continue\n",
    "    has_ace = lambda hand: Rank['A'] in hand\n",
    "    n_aces_west = sum(map(int, map(has_ace, \n",
    "        [deal.west.spades, deal.west.hearts, deal.west.diamonds, deal.west.clubs]\n",
    "    )))\n",
    "    if n_aces_west > 1:\n",
    "        continue\n",
    "    found += 1\n",
    "    lead_payoff.add_data(deal.dd_all_tricks('C', 'E'))"
   ]
  },
  {
   "cell_type": "code",
   "execution_count": 69,
   "metadata": {
    "collapsed": false
   },
   "outputs": [
    {
     "name": "stdout",
     "output_type": "stream",
     "text": [
      "\t♠9\t♠2\t♡K\t♡T\t♢K\t♢9\t♢7\t♣4\t♣2\t\n",
      "♠9\t\t\u001b[1m\u001b[32m+0.00\u001b[0m\t\u001b[1m\u001b[31m-0.35\u001b[0m\t\u001b[1m\u001b[32m+0.31\u001b[0m\t\u001b[1m\u001b[32m+0.33\u001b[0m\t+0.01\u001b[0m\t+0.01\u001b[0m\t\u001b[1m\u001b[32m+0.17\u001b[0m\t\u001b[1m\u001b[32m+0.17\u001b[0m\n",
      "\t\t(0.00)\t(0.04)\t(0.05)\t(0.04)\t(0.04)\t(0.04)\t(0.02)\t(0.02)\n",
      "♠2\t\u001b[1m\u001b[31m-0.00\u001b[0m\t\t\u001b[1m\u001b[31m-0.35\u001b[0m\t\u001b[1m\u001b[32m+0.31\u001b[0m\t\u001b[1m\u001b[32m+0.33\u001b[0m\t+0.01\u001b[0m\t+0.00\u001b[0m\t\u001b[1m\u001b[32m+0.17\u001b[0m\t\u001b[1m\u001b[32m+0.17\u001b[0m\n",
      "\t(0.00)\t\t(0.04)\t(0.05)\t(0.04)\t(0.04)\t(0.04)\t(0.02)\t(0.02)\n",
      "♡K\t\u001b[1m\u001b[32m+0.35\u001b[0m\t\u001b[1m\u001b[32m+0.35\u001b[0m\t\t\u001b[1m\u001b[32m+0.67\u001b[0m\t\u001b[1m\u001b[32m+0.66\u001b[0m\t\u001b[1m\u001b[32m+0.35\u001b[0m\t\u001b[1m\u001b[32m+0.35\u001b[0m\t\u001b[1m\u001b[32m+0.52\u001b[0m\t\u001b[1m\u001b[32m+0.51\u001b[0m\n",
      "\t(0.04)\t(0.04)\t\t(0.03)\t(0.04)\t(0.04)\t(0.04)\t(0.03)\t(0.03)\n",
      "♡T\t\u001b[1m\u001b[31m-0.31\u001b[0m\t\u001b[1m\u001b[31m-0.31\u001b[0m\t\u001b[1m\u001b[31m-0.67\u001b[0m\t\t+0.01\u001b[0m\t\u001b[1m\u001b[31m-0.30\u001b[0m\t\u001b[1m\u001b[31m-0.30\u001b[0m\t\u001b[1m\u001b[31m-0.16\u001b[0m\t\u001b[1m\u001b[31m-0.16\u001b[0m\n",
      "\t(0.05)\t(0.05)\t(0.03)\t\t(0.05)\t(0.05)\t(0.05)\t(0.04)\t(0.04)\n",
      "♢K\t\u001b[1m\u001b[31m-0.33\u001b[0m\t\u001b[1m\u001b[31m-0.33\u001b[0m\t\u001b[1m\u001b[31m-0.66\u001b[0m\t-0.01\u001b[0m\t\t\u001b[1m\u001b[31m-0.33\u001b[0m\t\u001b[1m\u001b[31m-0.33\u001b[0m\t\u001b[1m\u001b[31m-0.17\u001b[0m\t\u001b[1m\u001b[31m-0.17\u001b[0m\n",
      "\t(0.04)\t(0.04)\t(0.04)\t(0.05)\t\t(0.03)\t(0.03)\t(0.04)\t(0.04)\n",
      "♢9\t-0.01\u001b[0m\t-0.01\u001b[0m\t\u001b[1m\u001b[31m-0.35\u001b[0m\t\u001b[1m\u001b[32m+0.30\u001b[0m\t\u001b[1m\u001b[32m+0.33\u001b[0m\t\t\u001b[1m\u001b[31m-0.00\u001b[0m\t\u001b[1m\u001b[32m+0.15\u001b[0m\t\u001b[1m\u001b[32m+0.15\u001b[0m\n",
      "\t(0.04)\t(0.04)\t(0.04)\t(0.05)\t(0.03)\t\t(0.00)\t(0.03)\t(0.03)\n",
      "♢7\t-0.01\u001b[0m\t-0.00\u001b[0m\t\u001b[1m\u001b[31m-0.35\u001b[0m\t\u001b[1m\u001b[32m+0.30\u001b[0m\t\u001b[1m\u001b[32m+0.33\u001b[0m\t\u001b[1m\u001b[32m+0.00\u001b[0m\t\t\u001b[1m\u001b[32m+0.16\u001b[0m\t\u001b[1m\u001b[32m+0.16\u001b[0m\n",
      "\t(0.04)\t(0.04)\t(0.04)\t(0.05)\t(0.03)\t(0.00)\t\t(0.03)\t(0.03)\n",
      "♣4\t\u001b[1m\u001b[31m-0.17\u001b[0m\t\u001b[1m\u001b[31m-0.17\u001b[0m\t\u001b[1m\u001b[31m-0.52\u001b[0m\t\u001b[1m\u001b[32m+0.16\u001b[0m\t\u001b[1m\u001b[32m+0.17\u001b[0m\t\u001b[1m\u001b[31m-0.15\u001b[0m\t\u001b[1m\u001b[31m-0.16\u001b[0m\t\t\u001b[1m\u001b[31m-0.00\u001b[0m\n",
      "\t(0.02)\t(0.02)\t(0.03)\t(0.04)\t(0.04)\t(0.03)\t(0.03)\t\t(0.00)\n",
      "♣2\t\u001b[1m\u001b[31m-0.17\u001b[0m\t\u001b[1m\u001b[31m-0.17\u001b[0m\t\u001b[1m\u001b[31m-0.51\u001b[0m\t\u001b[1m\u001b[32m+0.16\u001b[0m\t\u001b[1m\u001b[32m+0.17\u001b[0m\t\u001b[1m\u001b[31m-0.15\u001b[0m\t\u001b[1m\u001b[31m-0.16\u001b[0m\t\u001b[1m\u001b[32m+0.00\u001b[0m\t\n",
      "\t(0.02)\t(0.02)\t(0.03)\t(0.04)\t(0.04)\t(0.03)\t(0.03)\t(0.00)\t\n"
     ]
    }
   ],
   "source": [
    "lead_payoff.report()"
   ]
  },
  {
   "cell_type": "code",
   "execution_count": null,
   "metadata": {
    "collapsed": true
   },
   "outputs": [],
   "source": []
  }
 ],
 "metadata": {
  "kernelspec": {
   "display_name": "Python 3",
   "language": "python",
   "name": "python3"
  },
  "language_info": {
   "codemirror_mode": {
    "name": "ipython",
    "version": 3
   },
   "file_extension": ".py",
   "mimetype": "text/x-python",
   "name": "python",
   "nbconvert_exporter": "python",
   "pygments_lexer": "ipython3",
   "version": "3.5.0"
  }
 },
 "nbformat": 4,
 "nbformat_minor": 0
}
